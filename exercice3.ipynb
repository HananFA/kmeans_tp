{
 "cells": [
  {
   "cell_type": "code",
   "execution_count": 1,
   "id": "5e28740c-b7f3-4312-a142-7d140f6f6459",
   "metadata": {},
   "outputs": [],
   "source": [
    "import numpy as np \n",
    "import pandas as pd\n",
    "import matplotlib.pyplot as plt\n",
    "import seaborn as sns\n",
    "import time"
   ]
  },
  {
   "cell_type": "code",
   "execution_count": 2,
   "id": "5267c4ca-13d9-4785-b9ff-54505cdae048",
   "metadata": {},
   "outputs": [],
   "source": [
    "from sklearn.datasets import load_wine\n",
    "from sklearn.cluster import KMeans"
   ]
  },
  {
   "cell_type": "code",
   "execution_count": 3,
   "id": "679fd585-84e2-43ae-adcf-afd7e5668839",
   "metadata": {},
   "outputs": [],
   "source": [
    "from sklearn.preprocessing import StandardScaler, MinMaxScaler, RobustScaler, Normalizer\n",
    "from sklearn.decomposition import PCA\n",
    "from sklearn.metrics import adjusted_rand_score, normalized_mutual_info_score, silhouette_score\n"
   ]
  },
  {
   "cell_type": "markdown",
   "id": "a5fabb30-141a-4ed7-9857-99cb5ab47a51",
   "metadata": {},
   "source": [
    "## Question 1 \n",
    "#### Chargement et exploitation des données "
   ]
  },
  {
   "cell_type": "code",
   "execution_count": 4,
   "id": "25f9e440-3f7c-4512-afbc-ebbd6c4636e6",
   "metadata": {},
   "outputs": [],
   "source": [
    "wine = load_wine()\n",
    "X = wine.data\n",
    "y = wine.target \n",
    "feature_names = wine.feature_names\n",
    "target_names = wine.target_names"
   ]
  },
  {
   "cell_type": "code",
   "execution_count": 5,
   "id": "07d30c1c-f0ca-4ee2-9275-77d66748a0bf",
   "metadata": {},
   "outputs": [
    {
     "name": "stdout",
     "output_type": "stream",
     "text": [
      "Dimensions du jeu de données Wine :\n",
      "Nombre d'echantillons:178\n",
      "Nombre de caractéristiques : 13\n",
      "Noms des caractéristiques :\n",
      "1. alcohol\n",
      "2. malic_acid\n",
      "3. ash\n",
      "4. alcalinity_of_ash\n",
      "5. magnesium\n",
      "6. total_phenols\n",
      "7. flavanoids\n",
      "8. nonflavanoid_phenols\n",
      "9. proanthocyanins\n",
      "10. color_intensity\n",
      "11. hue\n",
      "12. od280/od315_of_diluted_wines\n",
      "13. proline\n",
      "Classes cible:\n",
      "0. class_0\n",
      "1. class_1\n",
      "2. class_2\n"
     ]
    }
   ],
   "source": [
    "print(\"Dimensions du jeu de données Wine :\")\n",
    "print(f\"Nombre d'echantillons:{X.shape[0]}\")\n",
    "print(f\"Nombre de caractéristiques : {X.shape[1]}\")\n",
    "print(\"Noms des caractéristiques :\")\n",
    "for i, feature in enumerate(feature_names):\n",
    "    print(f\"{i+1}. {feature}\")\n",
    "\n",
    "print(\"Classes cible:\")\n",
    "for i, target in enumerate(target_names):\n",
    "    print(f\"{i}. {target}\")"
   ]
  },
  {
   "cell_type": "markdown",
   "id": "4af45a11-4d40-4261-8f47-99267b8a207c",
   "metadata": {},
   "source": [
    "#### Conversion en DataFrame pour visualisation"
   ]
  },
  {
   "cell_type": "code",
   "execution_count": 6,
   "id": "686f841e-5b59-4775-a6d3-d8a712cb75ae",
   "metadata": {},
   "outputs": [],
   "source": [
    "wine_df = pd.DataFrame(X, columns=feature_names)\n",
    "wine_df['target'] = y"
   ]
  },
  {
   "cell_type": "code",
   "execution_count": 7,
   "id": "8ec09eb2-f875-4880-9b01-06beaa161026",
   "metadata": {},
   "outputs": [
    {
     "data": {
      "text/html": [
       "<div>\n",
       "<style scoped>\n",
       "    .dataframe tbody tr th:only-of-type {\n",
       "        vertical-align: middle;\n",
       "    }\n",
       "\n",
       "    .dataframe tbody tr th {\n",
       "        vertical-align: top;\n",
       "    }\n",
       "\n",
       "    .dataframe thead th {\n",
       "        text-align: right;\n",
       "    }\n",
       "</style>\n",
       "<table border=\"1\" class=\"dataframe\">\n",
       "  <thead>\n",
       "    <tr style=\"text-align: right;\">\n",
       "      <th></th>\n",
       "      <th>alcohol</th>\n",
       "      <th>malic_acid</th>\n",
       "      <th>ash</th>\n",
       "      <th>alcalinity_of_ash</th>\n",
       "      <th>magnesium</th>\n",
       "      <th>total_phenols</th>\n",
       "      <th>flavanoids</th>\n",
       "      <th>nonflavanoid_phenols</th>\n",
       "      <th>proanthocyanins</th>\n",
       "      <th>color_intensity</th>\n",
       "      <th>hue</th>\n",
       "      <th>od280/od315_of_diluted_wines</th>\n",
       "      <th>proline</th>\n",
       "      <th>target</th>\n",
       "    </tr>\n",
       "  </thead>\n",
       "  <tbody>\n",
       "    <tr>\n",
       "      <th>0</th>\n",
       "      <td>14.23</td>\n",
       "      <td>1.71</td>\n",
       "      <td>2.43</td>\n",
       "      <td>15.6</td>\n",
       "      <td>127.0</td>\n",
       "      <td>2.80</td>\n",
       "      <td>3.06</td>\n",
       "      <td>0.28</td>\n",
       "      <td>2.29</td>\n",
       "      <td>5.64</td>\n",
       "      <td>1.04</td>\n",
       "      <td>3.92</td>\n",
       "      <td>1065.0</td>\n",
       "      <td>0</td>\n",
       "    </tr>\n",
       "    <tr>\n",
       "      <th>1</th>\n",
       "      <td>13.20</td>\n",
       "      <td>1.78</td>\n",
       "      <td>2.14</td>\n",
       "      <td>11.2</td>\n",
       "      <td>100.0</td>\n",
       "      <td>2.65</td>\n",
       "      <td>2.76</td>\n",
       "      <td>0.26</td>\n",
       "      <td>1.28</td>\n",
       "      <td>4.38</td>\n",
       "      <td>1.05</td>\n",
       "      <td>3.40</td>\n",
       "      <td>1050.0</td>\n",
       "      <td>0</td>\n",
       "    </tr>\n",
       "    <tr>\n",
       "      <th>2</th>\n",
       "      <td>13.16</td>\n",
       "      <td>2.36</td>\n",
       "      <td>2.67</td>\n",
       "      <td>18.6</td>\n",
       "      <td>101.0</td>\n",
       "      <td>2.80</td>\n",
       "      <td>3.24</td>\n",
       "      <td>0.30</td>\n",
       "      <td>2.81</td>\n",
       "      <td>5.68</td>\n",
       "      <td>1.03</td>\n",
       "      <td>3.17</td>\n",
       "      <td>1185.0</td>\n",
       "      <td>0</td>\n",
       "    </tr>\n",
       "    <tr>\n",
       "      <th>3</th>\n",
       "      <td>14.37</td>\n",
       "      <td>1.95</td>\n",
       "      <td>2.50</td>\n",
       "      <td>16.8</td>\n",
       "      <td>113.0</td>\n",
       "      <td>3.85</td>\n",
       "      <td>3.49</td>\n",
       "      <td>0.24</td>\n",
       "      <td>2.18</td>\n",
       "      <td>7.80</td>\n",
       "      <td>0.86</td>\n",
       "      <td>3.45</td>\n",
       "      <td>1480.0</td>\n",
       "      <td>0</td>\n",
       "    </tr>\n",
       "    <tr>\n",
       "      <th>4</th>\n",
       "      <td>13.24</td>\n",
       "      <td>2.59</td>\n",
       "      <td>2.87</td>\n",
       "      <td>21.0</td>\n",
       "      <td>118.0</td>\n",
       "      <td>2.80</td>\n",
       "      <td>2.69</td>\n",
       "      <td>0.39</td>\n",
       "      <td>1.82</td>\n",
       "      <td>4.32</td>\n",
       "      <td>1.04</td>\n",
       "      <td>2.93</td>\n",
       "      <td>735.0</td>\n",
       "      <td>0</td>\n",
       "    </tr>\n",
       "  </tbody>\n",
       "</table>\n",
       "</div>"
      ],
      "text/plain": [
       "   alcohol  malic_acid   ash  alcalinity_of_ash  magnesium  total_phenols  \\\n",
       "0    14.23        1.71  2.43               15.6      127.0           2.80   \n",
       "1    13.20        1.78  2.14               11.2      100.0           2.65   \n",
       "2    13.16        2.36  2.67               18.6      101.0           2.80   \n",
       "3    14.37        1.95  2.50               16.8      113.0           3.85   \n",
       "4    13.24        2.59  2.87               21.0      118.0           2.80   \n",
       "\n",
       "   flavanoids  nonflavanoid_phenols  proanthocyanins  color_intensity   hue  \\\n",
       "0        3.06                  0.28             2.29             5.64  1.04   \n",
       "1        2.76                  0.26             1.28             4.38  1.05   \n",
       "2        3.24                  0.30             2.81             5.68  1.03   \n",
       "3        3.49                  0.24             2.18             7.80  0.86   \n",
       "4        2.69                  0.39             1.82             4.32  1.04   \n",
       "\n",
       "   od280/od315_of_diluted_wines  proline  target  \n",
       "0                          3.92   1065.0       0  \n",
       "1                          3.40   1050.0       0  \n",
       "2                          3.17   1185.0       0  \n",
       "3                          3.45   1480.0       0  \n",
       "4                          2.93    735.0       0  "
      ]
     },
     "execution_count": 7,
     "metadata": {},
     "output_type": "execute_result"
    }
   ],
   "source": [
    "#aperçu des données \n",
    "wine_df.head()"
   ]
  },
  {
   "cell_type": "code",
   "execution_count": 8,
   "id": "f4d89d94-50d2-4918-8891-b91fe804cdf6",
   "metadata": {},
   "outputs": [
    {
     "data": {
      "text/html": [
       "<div>\n",
       "<style scoped>\n",
       "    .dataframe tbody tr th:only-of-type {\n",
       "        vertical-align: middle;\n",
       "    }\n",
       "\n",
       "    .dataframe tbody tr th {\n",
       "        vertical-align: top;\n",
       "    }\n",
       "\n",
       "    .dataframe thead th {\n",
       "        text-align: right;\n",
       "    }\n",
       "</style>\n",
       "<table border=\"1\" class=\"dataframe\">\n",
       "  <thead>\n",
       "    <tr style=\"text-align: right;\">\n",
       "      <th></th>\n",
       "      <th>alcohol</th>\n",
       "      <th>malic_acid</th>\n",
       "      <th>ash</th>\n",
       "      <th>alcalinity_of_ash</th>\n",
       "      <th>magnesium</th>\n",
       "      <th>total_phenols</th>\n",
       "      <th>flavanoids</th>\n",
       "      <th>nonflavanoid_phenols</th>\n",
       "      <th>proanthocyanins</th>\n",
       "      <th>color_intensity</th>\n",
       "      <th>hue</th>\n",
       "      <th>od280/od315_of_diluted_wines</th>\n",
       "      <th>proline</th>\n",
       "      <th>target</th>\n",
       "    </tr>\n",
       "  </thead>\n",
       "  <tbody>\n",
       "    <tr>\n",
       "      <th>count</th>\n",
       "      <td>178.000000</td>\n",
       "      <td>178.000000</td>\n",
       "      <td>178.000000</td>\n",
       "      <td>178.000000</td>\n",
       "      <td>178.000000</td>\n",
       "      <td>178.000000</td>\n",
       "      <td>178.000000</td>\n",
       "      <td>178.000000</td>\n",
       "      <td>178.000000</td>\n",
       "      <td>178.000000</td>\n",
       "      <td>178.000000</td>\n",
       "      <td>178.000000</td>\n",
       "      <td>178.000000</td>\n",
       "      <td>178.000000</td>\n",
       "    </tr>\n",
       "    <tr>\n",
       "      <th>mean</th>\n",
       "      <td>13.000618</td>\n",
       "      <td>2.336348</td>\n",
       "      <td>2.366517</td>\n",
       "      <td>19.494944</td>\n",
       "      <td>99.741573</td>\n",
       "      <td>2.295112</td>\n",
       "      <td>2.029270</td>\n",
       "      <td>0.361854</td>\n",
       "      <td>1.590899</td>\n",
       "      <td>5.058090</td>\n",
       "      <td>0.957449</td>\n",
       "      <td>2.611685</td>\n",
       "      <td>746.893258</td>\n",
       "      <td>0.938202</td>\n",
       "    </tr>\n",
       "    <tr>\n",
       "      <th>std</th>\n",
       "      <td>0.811827</td>\n",
       "      <td>1.117146</td>\n",
       "      <td>0.274344</td>\n",
       "      <td>3.339564</td>\n",
       "      <td>14.282484</td>\n",
       "      <td>0.625851</td>\n",
       "      <td>0.998859</td>\n",
       "      <td>0.124453</td>\n",
       "      <td>0.572359</td>\n",
       "      <td>2.318286</td>\n",
       "      <td>0.228572</td>\n",
       "      <td>0.709990</td>\n",
       "      <td>314.907474</td>\n",
       "      <td>0.775035</td>\n",
       "    </tr>\n",
       "    <tr>\n",
       "      <th>min</th>\n",
       "      <td>11.030000</td>\n",
       "      <td>0.740000</td>\n",
       "      <td>1.360000</td>\n",
       "      <td>10.600000</td>\n",
       "      <td>70.000000</td>\n",
       "      <td>0.980000</td>\n",
       "      <td>0.340000</td>\n",
       "      <td>0.130000</td>\n",
       "      <td>0.410000</td>\n",
       "      <td>1.280000</td>\n",
       "      <td>0.480000</td>\n",
       "      <td>1.270000</td>\n",
       "      <td>278.000000</td>\n",
       "      <td>0.000000</td>\n",
       "    </tr>\n",
       "    <tr>\n",
       "      <th>25%</th>\n",
       "      <td>12.362500</td>\n",
       "      <td>1.602500</td>\n",
       "      <td>2.210000</td>\n",
       "      <td>17.200000</td>\n",
       "      <td>88.000000</td>\n",
       "      <td>1.742500</td>\n",
       "      <td>1.205000</td>\n",
       "      <td>0.270000</td>\n",
       "      <td>1.250000</td>\n",
       "      <td>3.220000</td>\n",
       "      <td>0.782500</td>\n",
       "      <td>1.937500</td>\n",
       "      <td>500.500000</td>\n",
       "      <td>0.000000</td>\n",
       "    </tr>\n",
       "    <tr>\n",
       "      <th>50%</th>\n",
       "      <td>13.050000</td>\n",
       "      <td>1.865000</td>\n",
       "      <td>2.360000</td>\n",
       "      <td>19.500000</td>\n",
       "      <td>98.000000</td>\n",
       "      <td>2.355000</td>\n",
       "      <td>2.135000</td>\n",
       "      <td>0.340000</td>\n",
       "      <td>1.555000</td>\n",
       "      <td>4.690000</td>\n",
       "      <td>0.965000</td>\n",
       "      <td>2.780000</td>\n",
       "      <td>673.500000</td>\n",
       "      <td>1.000000</td>\n",
       "    </tr>\n",
       "    <tr>\n",
       "      <th>75%</th>\n",
       "      <td>13.677500</td>\n",
       "      <td>3.082500</td>\n",
       "      <td>2.557500</td>\n",
       "      <td>21.500000</td>\n",
       "      <td>107.000000</td>\n",
       "      <td>2.800000</td>\n",
       "      <td>2.875000</td>\n",
       "      <td>0.437500</td>\n",
       "      <td>1.950000</td>\n",
       "      <td>6.200000</td>\n",
       "      <td>1.120000</td>\n",
       "      <td>3.170000</td>\n",
       "      <td>985.000000</td>\n",
       "      <td>2.000000</td>\n",
       "    </tr>\n",
       "    <tr>\n",
       "      <th>max</th>\n",
       "      <td>14.830000</td>\n",
       "      <td>5.800000</td>\n",
       "      <td>3.230000</td>\n",
       "      <td>30.000000</td>\n",
       "      <td>162.000000</td>\n",
       "      <td>3.880000</td>\n",
       "      <td>5.080000</td>\n",
       "      <td>0.660000</td>\n",
       "      <td>3.580000</td>\n",
       "      <td>13.000000</td>\n",
       "      <td>1.710000</td>\n",
       "      <td>4.000000</td>\n",
       "      <td>1680.000000</td>\n",
       "      <td>2.000000</td>\n",
       "    </tr>\n",
       "  </tbody>\n",
       "</table>\n",
       "</div>"
      ],
      "text/plain": [
       "          alcohol  malic_acid         ash  alcalinity_of_ash   magnesium  \\\n",
       "count  178.000000  178.000000  178.000000         178.000000  178.000000   \n",
       "mean    13.000618    2.336348    2.366517          19.494944   99.741573   \n",
       "std      0.811827    1.117146    0.274344           3.339564   14.282484   \n",
       "min     11.030000    0.740000    1.360000          10.600000   70.000000   \n",
       "25%     12.362500    1.602500    2.210000          17.200000   88.000000   \n",
       "50%     13.050000    1.865000    2.360000          19.500000   98.000000   \n",
       "75%     13.677500    3.082500    2.557500          21.500000  107.000000   \n",
       "max     14.830000    5.800000    3.230000          30.000000  162.000000   \n",
       "\n",
       "       total_phenols  flavanoids  nonflavanoid_phenols  proanthocyanins  \\\n",
       "count     178.000000  178.000000            178.000000       178.000000   \n",
       "mean        2.295112    2.029270              0.361854         1.590899   \n",
       "std         0.625851    0.998859              0.124453         0.572359   \n",
       "min         0.980000    0.340000              0.130000         0.410000   \n",
       "25%         1.742500    1.205000              0.270000         1.250000   \n",
       "50%         2.355000    2.135000              0.340000         1.555000   \n",
       "75%         2.800000    2.875000              0.437500         1.950000   \n",
       "max         3.880000    5.080000              0.660000         3.580000   \n",
       "\n",
       "       color_intensity         hue  od280/od315_of_diluted_wines      proline  \\\n",
       "count       178.000000  178.000000                    178.000000   178.000000   \n",
       "mean          5.058090    0.957449                      2.611685   746.893258   \n",
       "std           2.318286    0.228572                      0.709990   314.907474   \n",
       "min           1.280000    0.480000                      1.270000   278.000000   \n",
       "25%           3.220000    0.782500                      1.937500   500.500000   \n",
       "50%           4.690000    0.965000                      2.780000   673.500000   \n",
       "75%           6.200000    1.120000                      3.170000   985.000000   \n",
       "max          13.000000    1.710000                      4.000000  1680.000000   \n",
       "\n",
       "           target  \n",
       "count  178.000000  \n",
       "mean     0.938202  \n",
       "std      0.775035  \n",
       "min      0.000000  \n",
       "25%      0.000000  \n",
       "50%      1.000000  \n",
       "75%      2.000000  \n",
       "max      2.000000  "
      ]
     },
     "execution_count": 8,
     "metadata": {},
     "output_type": "execute_result"
    }
   ],
   "source": [
    "#description statistique\n",
    "wine_df.describe()"
   ]
  },
  {
   "cell_type": "markdown",
   "id": "8463000c-78fd-4223-9165-96aaaf74421f",
   "metadata": {},
   "source": [
    "## Question 2 : Application de K-means dans differentes situations\n",
    "### (a) Sur les données brutes (non normalisées) "
   ]
  },
  {
   "cell_type": "code",
   "execution_count": 9,
   "id": "eb6881b4-8133-4500-9240-c109ef67a03f",
   "metadata": {},
   "outputs": [],
   "source": [
    "kmeans_raw = KMeans(n_clusters=3, random_state=42)\n",
    "start_time_raw = time.time()\n",
    "labels_raw = kmeans_raw.fit_predict(X)\n",
    "time_raw = time.time() - start_time_raw"
   ]
  },
  {
   "cell_type": "markdown",
   "id": "e385eefd-fe6a-4651-9bd3-9eb212085aaa",
   "metadata": {},
   "source": [
    "### (b) Sur les données normalisées avec StandardScaler "
   ]
  },
  {
   "cell_type": "code",
   "execution_count": 10,
   "id": "076be1f5-d7e8-4d50-8cb2-da6b00321bb8",
   "metadata": {},
   "outputs": [],
   "source": [
    "scaler = StandardScaler()\n",
    "X_scaled = scaler.fit_transform(X)\n",
    "kmeans_scaled = KMeans(n_clusters=3, random_state=42)\n",
    "start_time_scaled = time.time()\n",
    "labels_scaled = kmeans_scaled.fit_predict(X_scaled)\n",
    "time_scaled = time.time() - start_time_scaled"
   ]
  },
  {
   "cell_type": "markdown",
   "id": "f6dcb390-01cb-4e0c-86af-e195f59e629d",
   "metadata": {},
   "source": [
    "### (c) Sur les 2 premieres composantes principales (PCA) des données brutes"
   ]
  },
  {
   "cell_type": "code",
   "execution_count": 11,
   "id": "ba2230b1-3d70-4ac2-9140-917075bf8057",
   "metadata": {},
   "outputs": [],
   "source": [
    "pca_raw = PCA(n_components=2)\n",
    "X_pca_raw = pca_raw.fit_transform(X)\n",
    "kmeans_pca_raw = KMeans(n_clusters=3, random_state=42)\n",
    "start_time_pca_raw = time.time()\n",
    "labels_pca_raw = kmeans_pca_raw.fit_predict(X_pca_raw)\n",
    "time_pca_raw = time.time() - start_time_pca_raw"
   ]
  },
  {
   "cell_type": "markdown",
   "id": "9435dbc8-1ceb-491a-89ca-74d325357bfe",
   "metadata": {},
   "source": [
    "### (d) Sur les 2 premieres composantes principales (PCA) des données normalisées"
   ]
  },
  {
   "cell_type": "code",
   "execution_count": 12,
   "id": "74f63d92-82c3-4971-8fc7-e7d74a9b5c3d",
   "metadata": {},
   "outputs": [],
   "source": [
    "pca_scaled = PCA(n_components=2)\n",
    "X_pca_scaled = pca_scaled.fit_transform(X_scaled)\n",
    "kmeans_pca_scaled = KMeans(n_clusters=3, random_state=42)\n",
    "start_time_pca_scaled = time.time()\n",
    "labels_pca_scaled = kmeans_pca_scaled.fit_predict(X_pca_scaled)\n",
    "time_pca_scaled = time.time() - start_time_pca_scaled"
   ]
  },
  {
   "cell_type": "markdown",
   "id": "d2d4bbcd-361d-4e72-9250-d978f25e5330",
   "metadata": {},
   "source": [
    "## Question 3 : Calcul des métriques d'évaluation "
   ]
  },
  {
   "cell_type": "code",
   "execution_count": 13,
   "id": "b2caf83a-d948-44bd-bbc8-87a6f5c19d67",
   "metadata": {},
   "outputs": [],
   "source": [
    "#definition d'une fonction pour calculer toutes les métriques \n",
    "def calcul_metrics(y_true, y_pred, X_data):\n",
    "    ari = adjusted_rand_score(y_true, y_pred)\n",
    "    nmi = normalized_mutual_info_score(y_true, y_pred)\n",
    "    silhouette = silhouette_score(X_data, y_pred)\n",
    "    return ari, nmi, silhouette"
   ]
  },
  {
   "cell_type": "code",
   "execution_count": 14,
   "id": "bee75587-834a-47d8-af45-8e0bc23c4825",
   "metadata": {},
   "outputs": [],
   "source": [
    "#calcul des metriques pour chaque cas\n",
    "metrics_raw = calcul_metrics(y, labels_raw, X)\n",
    "metrics_scaled = calcul_metrics(y, labels_scaled, X_scaled)\n",
    "metrics_pca_raw = calcul_metrics(y, labels_pca_raw, X_pca_raw)\n",
    "metrics_pca_scaled = calcul_metrics(y, labels_pca_scaled, X_pca_scaled)"
   ]
  },
  {
   "cell_type": "code",
   "execution_count": 15,
   "id": "28d68e7d-a0fc-4238-803f-920974e1867a",
   "metadata": {},
   "outputs": [],
   "source": [
    "#creation de tableau recapitulatif des metriques\n",
    "metrics_df = pd.DataFrame({\n",
    "    'Metrique' : ['ARI', 'NMI', 'Silhouette'],\n",
    "    'Données brutes' : metrics_raw,\n",
    "    'Données normalisées': metrics_scaled,\n",
    "    'PCA sur données brutes' : metrics_pca_raw,\n",
    "    'PCA sur données normalisées' : metrics_pca_scaled\n",
    "})"
   ]
  },
  {
   "cell_type": "code",
   "execution_count": 16,
   "id": "20b16dc0-2f59-47d4-a5d6-6afacca95228",
   "metadata": {},
   "outputs": [],
   "source": [
    "#formatage pour l'affichage\n",
    "metrics_display = pd.DataFrame({\n",
    "    'Metrique' : ['ARI', 'NMI', 'Silhouette'],\n",
    "    'Données brutes' : [f\"{m:.4f}\" for m in metrics_raw],\n",
    "    'Données normalisées': [f\"{m:.4f}\" for m in metrics_scaled],\n",
    "    'PCA sur données brutes' : [f\"{m:.4f}\" for m in metrics_pca_raw],\n",
    "    'PCA sur données normalisées' : [f\"{m:.4f}\" for m in metrics_pca_scaled]\n",
    "})"
   ]
  },
  {
   "cell_type": "code",
   "execution_count": 17,
   "id": "1ea7f6ad-697f-40db-87b2-c7cb37ae069b",
   "metadata": {},
   "outputs": [
    {
     "name": "stdout",
     "output_type": "stream",
     "text": [
      "Tableau récapitulatif des métriques:\n"
     ]
    }
   ],
   "source": [
    "print(\"Tableau récapitulatif des métriques:\")"
   ]
  },
  {
   "cell_type": "code",
   "execution_count": 18,
   "id": "64951d93-9433-44d5-9e7e-1bbb7d8e69e9",
   "metadata": {},
   "outputs": [
    {
     "data": {
      "text/html": [
       "<div>\n",
       "<style scoped>\n",
       "    .dataframe tbody tr th:only-of-type {\n",
       "        vertical-align: middle;\n",
       "    }\n",
       "\n",
       "    .dataframe tbody tr th {\n",
       "        vertical-align: top;\n",
       "    }\n",
       "\n",
       "    .dataframe thead th {\n",
       "        text-align: right;\n",
       "    }\n",
       "</style>\n",
       "<table border=\"1\" class=\"dataframe\">\n",
       "  <thead>\n",
       "    <tr style=\"text-align: right;\">\n",
       "      <th></th>\n",
       "      <th>Metrique</th>\n",
       "      <th>Données brutes</th>\n",
       "      <th>Données normalisées</th>\n",
       "      <th>PCA sur données brutes</th>\n",
       "      <th>PCA sur données normalisées</th>\n",
       "    </tr>\n",
       "  </thead>\n",
       "  <tbody>\n",
       "    <tr>\n",
       "      <th>0</th>\n",
       "      <td>ARI</td>\n",
       "      <td>0.3518</td>\n",
       "      <td>0.8975</td>\n",
       "      <td>0.3518</td>\n",
       "      <td>0.8962</td>\n",
       "    </tr>\n",
       "    <tr>\n",
       "      <th>1</th>\n",
       "      <td>NMI</td>\n",
       "      <td>0.4233</td>\n",
       "      <td>0.8759</td>\n",
       "      <td>0.4233</td>\n",
       "      <td>0.8656</td>\n",
       "    </tr>\n",
       "    <tr>\n",
       "      <th>2</th>\n",
       "      <td>Silhouette</td>\n",
       "      <td>0.5596</td>\n",
       "      <td>0.2849</td>\n",
       "      <td>0.5603</td>\n",
       "      <td>0.5602</td>\n",
       "    </tr>\n",
       "  </tbody>\n",
       "</table>\n",
       "</div>"
      ],
      "text/plain": [
       "     Metrique Données brutes Données normalisées PCA sur données brutes  \\\n",
       "0         ARI         0.3518              0.8975                 0.3518   \n",
       "1         NMI         0.4233              0.8759                 0.4233   \n",
       "2  Silhouette         0.5596              0.2849                 0.5603   \n",
       "\n",
       "  PCA sur données normalisées  \n",
       "0                      0.8962  \n",
       "1                      0.8656  \n",
       "2                      0.5602  "
      ]
     },
     "execution_count": 18,
     "metadata": {},
     "output_type": "execute_result"
    }
   ],
   "source": [
    "metrics_display"
   ]
  },
  {
   "cell_type": "markdown",
   "id": "3a81648d-d469-4abb-b414-1672152aa465",
   "metadata": {},
   "source": [
    "<span style=\"color:red\">Remarque : </span> Le meilleur clustering est obtenu avec les données normalisées (ARI=0.89, NMI=0.87), confirmant que la standarisation est cruciale pour K-means. La PCA n'apporte pas d'améliration significative ici, mais peut être utile pour d'autres besoins comme la visualisation ou la simplification."
   ]
  },
  {
   "cell_type": "markdown",
   "id": "d9461c41-a2f9-406b-9544-bd2053cb00d1",
   "metadata": {},
   "source": [
    "## Question 4 : Visualisation des résultats avec PCA"
   ]
  },
  {
   "cell_type": "code",
   "execution_count": 19,
   "id": "96decdef-1846-4c86-81e7-7d3dc28ba8f9",
   "metadata": {},
   "outputs": [
    {
     "data": {
      "image/png": "[encoded data removed]",
      "text/plain": [
       "<Figure size 1200x500 with 4 Axes>"
      ]
     },
     "metadata": {},
     "output_type": "display_data"
    }
   ],
   "source": [
    "\n",
    "#### PCA pour des données brutes (c)\n",
    "\n",
    "plt.figure(figsize=(12,5))\n",
    "plt.subplot(1,2,1)\n",
    "plt.scatter(X_pca_raw[:,0], X_pca_raw[:,1], c=labels_pca_raw, cmap='viridis', s=50, alpha=0.8)\n",
    "plt.scatter(kmeans_pca_raw.cluster_centers_[:,0], kmeans_pca_raw.cluster_centers_[:,1], c='red', marker='X', s=200, label='Centroides')\n",
    "plt.title('K-Means sur PCA des données brutes')\n",
    "plt.xlabel('Première composante principale')\n",
    "plt.ylabel('Deuxième composante principale')\n",
    "plt.legend()\n",
    "plt.colorbar(label='Cluster')\n",
    "plt.grid(True, alpha=0.3)\n",
    "\n",
    "#### PCA pour des données normalisées (d)\n",
    "plt.subplot(1, 2, 2)\n",
    "plt.scatter(X_pca_scaled[:, 0], X_pca_scaled[:, 1], c=labels_pca_scaled, cmap='viridis', s=50, alpha=0.8)\n",
    "plt.scatter(kmeans_pca_scaled.cluster_centers_[:, 0], kmeans_pca_scaled.cluster_centers_[:, 1], \n",
    "           c='red', marker='X', s=200, label='Centroïdes')\n",
    "plt.title('K-Means sur PCA des données normalisées')\n",
    "plt.xlabel('Première composante principale')\n",
    "plt.ylabel('Deuxième composante principale')\n",
    "plt.legend()\n",
    "plt.colorbar(label='Cluster')\n",
    "\n",
    "plt.tight_layout()\n",
    "plt.show()"
   ]
  },
  {
   "cell_type": "markdown",
   "id": "697b08ef-92e3-46fe-ba71-aee2d9592635",
   "metadata": {},
   "source": [
    "<span style=\"color:red\">Remarque : </span> D'après la comparaison visuelle on peut remarquer que la normalisation a un impact crucial. <span style=\"color:blue\">Sans normalisation</span>, les clusters sont biaisés par l'échelles des variables, tandis qu'<span style=\"color:blue\">avec normalisation</span>, ils reflètent mieux la structure réelle des données."
   ]
  },
  {
   "cell_type": "markdown",
   "id": "b1ac9665-6300-4909-9457-2704636f1a77",
   "metadata": {},
   "source": [
    "## Question 5"
   ]
  },
  {
   "cell_type": "markdown",
   "id": "90bcbfe5-97a0-4d1f-a1e5-149921233de5",
   "metadata": {},
   "source": [
    "La normalisation est cruciale pour K-Means car l'algorithme utilise la distance euclidienne.<br>\n",
    "Sans normalisation, les variables avec de grandes échelles domineront le calcul de distance,\n",
    "ce qui peut conduire à des clusters biaisés qui ne reflètent pas la véritable structure des données."
   ]
  },
  {
   "cell_type": "markdown",
   "id": "f05c8286-408f-4231-9679-880d74ebee94",
   "metadata": {},
   "source": [
    "## Question 6"
   ]
  },
  {
   "cell_type": "code",
   "execution_count": 20,
   "id": "a7dd470b-f7ab-4845-92a9-08435c781240",
   "metadata": {},
   "outputs": [
    {
     "data": {
      "text/html": [
       "<div>\n",
       "<style scoped>\n",
       "    .dataframe tbody tr th:only-of-type {\n",
       "        vertical-align: middle;\n",
       "    }\n",
       "\n",
       "    .dataframe tbody tr th {\n",
       "        vertical-align: top;\n",
       "    }\n",
       "\n",
       "    .dataframe thead th {\n",
       "        text-align: right;\n",
       "    }\n",
       "</style>\n",
       "<table border=\"1\" class=\"dataframe\">\n",
       "  <thead>\n",
       "    <tr style=\"text-align: right;\">\n",
       "      <th></th>\n",
       "      <th>Metrique</th>\n",
       "      <th>Données brutes</th>\n",
       "      <th>Données normalisées</th>\n",
       "      <th>PCA sur données brutes</th>\n",
       "      <th>PCA sur données normalisées</th>\n",
       "    </tr>\n",
       "  </thead>\n",
       "  <tbody>\n",
       "    <tr>\n",
       "      <th>0</th>\n",
       "      <td>ARI</td>\n",
       "      <td>0.3518</td>\n",
       "      <td>0.8975</td>\n",
       "      <td>0.3518</td>\n",
       "      <td>0.8962</td>\n",
       "    </tr>\n",
       "    <tr>\n",
       "      <th>1</th>\n",
       "      <td>NMI</td>\n",
       "      <td>0.4233</td>\n",
       "      <td>0.8759</td>\n",
       "      <td>0.4233</td>\n",
       "      <td>0.8656</td>\n",
       "    </tr>\n",
       "    <tr>\n",
       "      <th>2</th>\n",
       "      <td>Silhouette</td>\n",
       "      <td>0.5596</td>\n",
       "      <td>0.2849</td>\n",
       "      <td>0.5603</td>\n",
       "      <td>0.5602</td>\n",
       "    </tr>\n",
       "  </tbody>\n",
       "</table>\n",
       "</div>"
      ],
      "text/plain": [
       "     Metrique Données brutes Données normalisées PCA sur données brutes  \\\n",
       "0         ARI         0.3518              0.8975                 0.3518   \n",
       "1         NMI         0.4233              0.8759                 0.4233   \n",
       "2  Silhouette         0.5596              0.2849                 0.5603   \n",
       "\n",
       "  PCA sur données normalisées  \n",
       "0                      0.8962  \n",
       "1                      0.8656  \n",
       "2                      0.5602  "
      ]
     },
     "execution_count": 20,
     "metadata": {},
     "output_type": "execute_result"
    }
   ],
   "source": [
    "metrics_display"
   ]
  },
  {
   "cell_type": "markdown",
   "id": "188be944-931f-4484-a951-db488798cc5d",
   "metadata": {},
   "source": [
    "D'après le calcul des metriques, la PCA n'apporte aucun gain significatif pour la correspondance avec les labels réels, malgré l'augmentation du score de silhouette, mais cette metrique est mois fiable que l'ARI/NMI si les vrais labels sont connus. Contrairement à la normalisation, on remarque qu'il y a une augmentation des score ARI et NMI par rapport aux données brutes.<br>Pour conclure, **LA PCA seule n'améliore pas la qualité du clustering par rapport à la simple normalisation.**"
   ]
  },
  {
   "cell_type": "markdown",
   "id": "6c744100-f180-463e-aba3-5a7ed61eeb84",
   "metadata": {},
   "source": [
    "## Question 7 : comparaison des temps d'execution"
   ]
  },
  {
   "cell_type": "code",
   "execution_count": 23,
   "id": "5baa8532-31f1-44d2-8d6a-98e26bea10a8",
   "metadata": {},
   "outputs": [],
   "source": [
    "#les temps déjà calculés dans la question 2\n",
    "times_df = pd.DataFrame({\n",
    "    'Configuration': ['PCA sur données brutes', 'PCA sur données normalisées'],\n",
    "    'Temps d\\'exécution (s)': [time_pca_raw, time_pca_scaled]\n",
    "})\n"
   ]
  },
  {
   "cell_type": "code",
   "execution_count": 24,
   "id": "5c3411af-4d7e-46ee-9890-d3a03fe99858",
   "metadata": {},
   "outputs": [
    {
     "name": "stdout",
     "output_type": "stream",
     "text": [
      "\n",
      "Comparaison des temps d'exécution:\n",
      "                 Configuration  Temps d'exécution (s)\n",
      "0       PCA sur données brutes               0.006067\n",
      "1  PCA sur données normalisées               0.005575\n"
     ]
    }
   ],
   "source": [
    "print(\"\\nComparaison des temps d'exécution:\")\n",
    "print(times_df)"
   ]
  },
  {
   "cell_type": "markdown",
   "id": "14c3f69b-258d-41fd-8055-9dfb3cc52e90",
   "metadata": {},
   "source": [
    "<span style=\"color:red\">Remarque : </span>L'approche PCA sur données normalisées est plus rapide que sur les données normalisées complètes.\n",
    "Cela est dû à la réduction du nombre de dimensions, ce qui réduit la complexité des calculs."
   ]
  },
  {
   "cell_type": "markdown",
   "id": "697639c0-8849-4328-8027-d8c2fe5fac4e",
   "metadata": {},
   "source": [
    "## Question 8 : Essai d'autres methodes de normalisation"
   ]
  },
  {
   "cell_type": "markdown",
   "id": "adec7da8-60d3-44ab-bb42-0f84d0d2c018",
   "metadata": {},
   "source": [
    "#### MinMaxScaler "
   ]
  },
  {
   "cell_type": "code",
   "execution_count": 26,
   "id": "46f82047-a16c-4636-80b7-082d0137491e",
   "metadata": {},
   "outputs": [],
   "source": [
    "min_max_scaler = MinMaxScaler()\n",
    "X_min_max = min_max_scaler.fit_transform(X)\n",
    "kmeans_min_max = KMeans(n_clusters=3, random_state=42)\n",
    "labels_min_max = kmeans_min_max.fit_predict(X_min_max)\n",
    "metrics_min_max = calcul_metrics(y, labels_min_max, X_min_max)"
   ]
  },
  {
   "cell_type": "markdown",
   "id": "d72d1909-bf9e-40dd-a880-ef13b89ac48f",
   "metadata": {},
   "source": [
    "#### RobustScaler"
   ]
  },
  {
   "cell_type": "code",
   "execution_count": 27,
   "id": "cabe82f8-b4bf-458c-b605-90d4c0bd468e",
   "metadata": {},
   "outputs": [],
   "source": [
    "robust_scaler = RobustScaler()\n",
    "X_robust = robust_scaler.fit_transform(X)\n",
    "kmeans_robust = KMeans(n_clusters=3, random_state=42)\n",
    "labels_robust = kmeans_robust.fit_predict(X_robust)\n",
    "metrics_robust = calcul_metrics(y, labels_robust, X_robust)"
   ]
  },
  {
   "cell_type": "markdown",
   "id": "545942d5-2b2c-4e6d-a7ef-d45a8a7d3fdd",
   "metadata": {},
   "source": [
    "#### Normalizer "
   ]
  },
  {
   "cell_type": "code",
   "execution_count": 29,
   "id": "3ffd8809-f280-4d9e-8a94-15ec3e304d85",
   "metadata": {},
   "outputs": [],
   "source": [
    "normalizer = Normalizer()\n",
    "X_norm = normalizer.fit_transform(X)\n",
    "kmeans_norm = KMeans(n_clusters=3, random_state=42)\n",
    "labels_norm = kmeans_norm.fit_predict(X_norm)\n",
    "metrics_norm = calcul_metrics(y, labels_norm, X_norm)"
   ]
  },
  {
   "cell_type": "markdown",
   "id": "7ae38410-958a-4f5c-8107-157be088ab68",
   "metadata": {},
   "source": [
    "#### Ajout des résultats au tableau de métriques"
   ]
  },
  {
   "cell_type": "code",
   "execution_count": 30,
   "id": "dca41e0d-a612-4172-8a8f-fba7d6acb34b",
   "metadata": {},
   "outputs": [],
   "source": [
    "scalers_df = pd.DataFrame({\n",
    "    'Metrique': ['ARI', 'NMI', 'Silhouette'],\n",
    "    'StandardScaler': [f\"{m:.4f}\" for m in metrics_scaled],\n",
    "    'MinMaxScaler': [f\"{m:.4f}\" for m in metrics_min_max],\n",
    "    'RobustScaler': [f\"{m:.4f}\" for m in metrics_robust],\n",
    "    'Normalizer': [f\"{m:.4f}\" for m in metrics_norm]\n",
    "})"
   ]
  },
  {
   "cell_type": "code",
   "execution_count": 31,
   "id": "6401abb1-aa27-4475-9a86-07f6c5a02b4c",
   "metadata": {},
   "outputs": [
    {
     "name": "stdout",
     "output_type": "stream",
     "text": [
      "\n",
      "Comparaison des différentes méthodes de normalisation:\n"
     ]
    }
   ],
   "source": [
    "print(\"\\nComparaison des différentes méthodes de normalisation:\")"
   ]
  },
  {
   "cell_type": "code",
   "execution_count": 32,
   "id": "4b57ec2d-ede3-4d75-9764-6572307e2afe",
   "metadata": {},
   "outputs": [
    {
     "data": {
      "text/html": [
       "<div>\n",
       "<style scoped>\n",
       "    .dataframe tbody tr th:only-of-type {\n",
       "        vertical-align: middle;\n",
       "    }\n",
       "\n",
       "    .dataframe tbody tr th {\n",
       "        vertical-align: top;\n",
       "    }\n",
       "\n",
       "    .dataframe thead th {\n",
       "        text-align: right;\n",
       "    }\n",
       "</style>\n",
       "<table border=\"1\" class=\"dataframe\">\n",
       "  <thead>\n",
       "    <tr style=\"text-align: right;\">\n",
       "      <th></th>\n",
       "      <th>Metrique</th>\n",
       "      <th>StandardScaler</th>\n",
       "      <th>MinMaxScaler</th>\n",
       "      <th>RobustScaler</th>\n",
       "      <th>Normalizer</th>\n",
       "    </tr>\n",
       "  </thead>\n",
       "  <tbody>\n",
       "    <tr>\n",
       "      <th>0</th>\n",
       "      <td>ARI</td>\n",
       "      <td>0.8975</td>\n",
       "      <td>0.8537</td>\n",
       "      <td>0.8636</td>\n",
       "      <td>0.3470</td>\n",
       "    </tr>\n",
       "    <tr>\n",
       "      <th>1</th>\n",
       "      <td>NMI</td>\n",
       "      <td>0.8759</td>\n",
       "      <td>0.8417</td>\n",
       "      <td>0.8473</td>\n",
       "      <td>0.3823</td>\n",
       "    </tr>\n",
       "    <tr>\n",
       "      <th>2</th>\n",
       "      <td>Silhouette</td>\n",
       "      <td>0.2849</td>\n",
       "      <td>0.3009</td>\n",
       "      <td>0.2645</td>\n",
       "      <td>0.5233</td>\n",
       "    </tr>\n",
       "  </tbody>\n",
       "</table>\n",
       "</div>"
      ],
      "text/plain": [
       "     Metrique StandardScaler MinMaxScaler RobustScaler Normalizer\n",
       "0         ARI         0.8975       0.8537       0.8636     0.3470\n",
       "1         NMI         0.8759       0.8417       0.8473     0.3823\n",
       "2  Silhouette         0.2849       0.3009       0.2645     0.5233"
      ]
     },
     "execution_count": 32,
     "metadata": {},
     "output_type": "execute_result"
    }
   ],
   "source": [
    "scalers_df"
   ]
  },
  {
   "cell_type": "code",
   "execution_count": 33,
   "id": "8bf5523d-45f8-4343-883a-922cbdcd75a5",
   "metadata": {},
   "outputs": [
    {
     "name": "stdout",
     "output_type": "stream",
     "text": [
      "\n",
      "La meilleure méthode de normalisation selon ARI est: StandardScaler\n"
     ]
    }
   ],
   "source": [
    "best_method_name = scalers_df.iloc[0, 1:].astype(float).idxmax()\n",
    "print(f\"\\nLa meilleure méthode de normalisation selon ARI est: {best_method_name}\")"
   ]
  },
  {
   "cell_type": "code",
   "execution_count": 34,
   "id": "66b1f285-befb-470a-97b4-95a0eaedce4b",
   "metadata": {},
   "outputs": [
    {
     "name": "stdout",
     "output_type": "stream",
     "text": [
      "\n",
      "La meilleure méthode de normalisation selon NMI est: StandardScaler\n"
     ]
    }
   ],
   "source": [
    "best_method_name = scalers_df.iloc[1, 1:].astype(float).idxmax()\n",
    "print(f\"\\nLa meilleure méthode de normalisation selon NMI est: {best_method_name}\")"
   ]
  },
  {
   "cell_type": "markdown",
   "id": "cfb9c25c-3e3f-40b1-849c-d4a69a6bdb12",
   "metadata": {},
   "source": [
    "<span style=\"color:red\">Conclusion : </span>StandardScaler est la méthode de normalisation optimale pour ce jeu de données, offrant le meilleur compromis entre qualité de clustering (ARI/NMI élevés) et stabilité. Les autres méthodes, bien qu'utiles dans certains contextes, ne surpassent pas StandardScaler ici.\""
   ]
  }
 ],
 "metadata": {
  "kernelspec": {
   "display_name": "Python 3 (ipykernel)",
   "language": "python",
   "name": "python3"
  },
  "language_info": {
   "codemirror_mode": {
    "name": "ipython",
    "version": 3
   },
   "file_extension": ".py",
   "mimetype": "text/x-python",
   "name": "python",
   "nbconvert_exporter": "python",
   "pygments_lexer": "ipython3",
   "version": "3.11.9"
  }
 },
 "nbformat": 4,
 "nbformat_minor": 5
}
